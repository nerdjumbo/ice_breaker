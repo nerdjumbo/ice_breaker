{
  "cells": [
    {
      "cell_type": "markdown",
      "metadata": {
        "id": "view-in-github",
        "colab_type": "text"
      },
      "source": [
        "<a href=\"https://colab.research.google.com/github/nerdjumbo/ice_breaker/blob/main/docs/docs/integrations/chat/groq.ipynb\" target=\"_parent\"><img src=\"https://colab.research.google.com/assets/colab-badge.svg\" alt=\"Open In Colab\"/></a>"
      ]
    },
    {
      "cell_type": "raw",
      "id": "afaf8039",
      "metadata": {
        "id": "afaf8039"
      },
      "source": [
        "---\n",
        "sidebar_label: Groq\n",
        "---"
      ]
    },
    {
      "cell_type": "markdown",
      "id": "e49f1e0d",
      "metadata": {
        "id": "e49f1e0d"
      },
      "source": [
        "# ChatGroq\n",
        "\n",
        "This will help you getting started with Groq [chat models](../../concepts/chat_models.mdx). For detailed documentation of all ChatGroq features and configurations head to the [API reference](https://python.langchain.com/api_reference/groq/chat_models/langchain_groq.chat_models.ChatGroq.html). For a list of all Groq models, visit this [link](https://console.groq.com/docs/models?utm_source=langchain).\n",
        "\n",
        "## Overview\n",
        "### Integration details\n",
        "\n",
        "| Class | Package | Local | Serializable | [JS support](https://js.langchain.com/docs/integrations/chat/groq) | Package downloads | Package latest |\n",
        "| :--- | :--- | :---: | :---: |  :---: | :---: | :---: |\n",
        "| [ChatGroq](https://python.langchain.com/api_reference/groq/chat_models/langchain_groq.chat_models.ChatGroq.html) | [langchain-groq](https://python.langchain.com/api_reference/groq/index.html) | ❌ | beta | ✅ | ![PyPI - Downloads](https://img.shields.io/pypi/dm/langchain-groq?style=flat-square&label=%20) | ![PyPI - Version](https://img.shields.io/pypi/v/langchain-groq?style=flat-square&label=%20) |\n",
        "\n",
        "### Model features\n",
        "| [Tool calling](../../how_to/tool_calling.ipynb) | [Structured output](../../how_to/structured_output.ipynb) | JSON mode | [Image input](../../how_to/multimodal_inputs.ipynb) | Audio input | Video input | [Token-level streaming](../../how_to/chat_streaming.ipynb) | Native async | [Token usage](../../how_to/chat_token_usage_tracking.ipynb) | [Logprobs](../../how_to/logprobs.ipynb) |\n",
        "| :---: | :---: | :---: | :---: |  :---: | :---: | :---: | :---: | :---: | :---: |\n",
        "| ✅ | ✅ | ✅ | ❌ | ❌ | ❌ | ✅ | ✅ | ✅ | ✅ |\n",
        "\n",
        "## Setup\n",
        "\n",
        "To access Groq models you'll need to create a Groq account, get an API key, and install the `langchain-groq` integration package.\n",
        "\n",
        "### Credentials\n",
        "\n",
        "Head to the [Groq console](https://console.groq.com/login?utm_source=langchain&utm_content=chat_page) to sign up to Groq and generate an API key. Once you've done this set the GROQ_API_KEY environment variable:"
      ]
    },
    {
      "cell_type": "code",
      "execution_count": 2,
      "id": "433e8d2b-9519-4b49-b2c4-7ab65b046c94",
      "metadata": {
        "id": "433e8d2b-9519-4b49-b2c4-7ab65b046c94"
      },
      "outputs": [],
      "source": [
        "import getpass\n",
        "import os\n",
        "\n",
        "if \"GROQ_API_KEY\" not in os.environ:\n",
        "    os.environ[\"GROQ_API_KEY\"] = getpass.getpass(\"Enter your Groq API key: \")"
      ]
    },
    {
      "cell_type": "markdown",
      "id": "72ee0c4b-9764-423a-9dbf-95129e185210",
      "metadata": {
        "id": "72ee0c4b-9764-423a-9dbf-95129e185210"
      },
      "source": [
        "To enable automated tracing of your model calls, set your [LangSmith](https://docs.smith.langchain.com/) API key:"
      ]
    },
    {
      "cell_type": "code",
      "execution_count": null,
      "id": "a15d341e-3e26-4ca3-830b-5aab30ed66de",
      "metadata": {
        "id": "a15d341e-3e26-4ca3-830b-5aab30ed66de"
      },
      "outputs": [],
      "source": [
        "# os.environ[\"LANGSMITH_API_KEY\"] = getpass.getpass(\"Enter your LangSmith API key: \")\n",
        "# os.environ[\"LANGSMITH_TRACING\"] = \"true\""
      ]
    },
    {
      "cell_type": "markdown",
      "id": "0730d6a1-c893-4840-9817-5e5251676d5d",
      "metadata": {
        "id": "0730d6a1-c893-4840-9817-5e5251676d5d"
      },
      "source": [
        "### Installation\n",
        "\n",
        "The LangChain Groq integration lives in the `langchain-groq` package:"
      ]
    },
    {
      "cell_type": "code",
      "execution_count": 3,
      "id": "3f3f510e-2afe-4e76-be41-c5a9665aea63",
      "metadata": {
        "colab": {
          "base_uri": "https://localhost:8080/"
        },
        "id": "3f3f510e-2afe-4e76-be41-c5a9665aea63",
        "outputId": "6799f3d9-5995-440a-9602-0064598b662c"
      },
      "outputs": [
        {
          "output_type": "stream",
          "name": "stdout",
          "text": [
            "\u001b[?25l   \u001b[90m━━━━━━━━━━━━━━━━━━━━━━━━━━━━━━━━━━━━━━━━\u001b[0m \u001b[32m0.0/126.7 kB\u001b[0m \u001b[31m?\u001b[0m eta \u001b[36m-:--:--\u001b[0m\r\u001b[2K   \u001b[90m━━━━━━━━━━━━━━━━━━━━━━━━━━━━━━━━━━━━━━━━\u001b[0m \u001b[32m126.7/126.7 kB\u001b[0m \u001b[31m5.3 MB/s\u001b[0m eta \u001b[36m0:00:00\u001b[0m\n",
            "\u001b[?25h"
          ]
        }
      ],
      "source": [
        "%pip install -qU langchain-groq"
      ]
    },
    {
      "cell_type": "markdown",
      "id": "a38cde65-254d-4219-a441-068766c0d4b5",
      "metadata": {
        "id": "a38cde65-254d-4219-a441-068766c0d4b5"
      },
      "source": [
        "## Instantiation\n",
        "\n",
        "Now we can instantiate our model object and generate chat completions:"
      ]
    },
    {
      "cell_type": "code",
      "execution_count": 35,
      "id": "cb09c344-1836-4e0c-acf8-11d13ac1dbae",
      "metadata": {
        "id": "cb09c344-1836-4e0c-acf8-11d13ac1dbae"
      },
      "outputs": [],
      "source": [
        "from langchain_groq import ChatGroq\n",
        "\n",
        "llm = ChatGroq(\n",
        "    model=\"deepseek-r1-distill-llama-70b\",\n",
        "    temperature=0,\n",
        "    max_tokens=None,\n",
        "    timeout=None,\n",
        "    max_retries=2,\n",
        "    # other params...\n",
        ")"
      ]
    },
    {
      "cell_type": "markdown",
      "source": [
        "# WORKFLOW"
      ],
      "metadata": {
        "id": "IugwxmN6LrLi"
      },
      "id": "IugwxmN6LrLi"
    },
    {
      "cell_type": "markdown",
      "source": [
        "## TEST DATA\n"
      ],
      "metadata": {
        "id": "xqbpWVYTPA-r"
      },
      "id": "xqbpWVYTPA-r"
    },
    {
      "cell_type": "code",
      "source": [
        "Batch1HappyPath = \"\"\"\n",
        "AI Tutor: Let’s start with atoms! What three particles make up an atom?\n",
        "Learner: Protons, neutrons, and electrons?\n",
        "AI Tutor: Correct! Where are protons located?\n",
        "Learner: In the nucleus.\n",
        "AI Tutor: Perfect! What charge do electrons carry?\n",
        "Learner: Negative charge.\n",
        "\"\"\"\n",
        "Batch2ConfusionClarification = \"\"\"\n",
        "AI Tutor: Isotopes have the same protons but different neutrons. Example?\n",
        "Learner: Wait, why do isotopes act the same chemically?\n",
        "AI Tutor: Because chemical behavior depends on electrons, which isotopes have equally.\n",
        "Learner: So neutrons don’t affect reactions?\n",
        "AI Tutor: Exactly! Neutrons change mass, not reactivity. Clear?\n",
        "Learner: Yes, thanks!\n",
        "\"\"\"\n",
        "\n",
        "Batch3OffTopic = \"\"\"\n",
        "AI Tutor: Let’s discuss ionic bonds. NaCl forms when…\n",
        "Learner: Can you explain how phones work instead?\n",
        "AI Tutor: Let’s focus on chemistry first. Ready?\n",
        "Learner: No, I hate chemistry.\n",
        "AI Tutor: Okay! What topic interests you?\n",
        "Learner: Space.\n",
        "\"\"\"\n",
        "\n",
        "Batch4IncorrectAnswers = \"\"\"\n",
        "AI Tutor: What’s the mass number of Carbon-14 (Z=6)?\n",
        "Learner: 12?\n",
        "AI Tutor: Not quite! Mass number = protons + neutrons. Try again.\n",
        "Learner: 14?\n",
        "AI Tutor: Yes! 6 protons + 8 neutrons = 14.\n",
        "\"\"\"\n",
        "\n",
        "Batch5RapidTopicSwitching = \"\"\"\n",
        "AI Tutor: Covalent bonds involve electron sharing. Example?\n",
        "Learner: What’s the periodic table’s Group 1 called?\n",
        "AI Tutor: Alkali metals. Back to bonds: H₂O is…\n",
        "Learner: How do isotopes work?\n",
        "AI Tutor: Let’s finish covalent bonds first. H₂O shares electrons between…\n",
        "\"\"\"\n",
        "\n",
        "Batch6MixedUnderstanding = \"\"\"\n",
        "AI Tutor: Molecules like O₂ are diatomic. Another example?\n",
        "Learner: CO₂?\n",
        "AI Tutor: CO₂ is polyatomic. Diatomic means two atoms, like O₂.\n",
        "Learner: Oh! So N₂ is diatomic?\n",
        "AI Tutor: Yes! Great correction.\n",
        "\"\"\"\n",
        "\n",
        "Batch7AbruptExit = \"\"\"\n",
        "AI Tutor: Ready to learn about the nucleus?\n",
        "Learner: No, bye.\n",
        "AI Tutor: Sure! Return anytime.\n",
        "Learner: leaves chat\n",
        "AI Tutor: …\n",
        "\"\"\"\n",
        "\n",
        "Batch8PartialUnderstanding = \"\"\"\n",
        "AI Tutor: What defines an element’s atomic number?\n",
        "Learner: Number of protons and electrons?\n",
        "AI Tutor: Protons only. Electrons can vary in ions.\n",
        "Learner: So Z = protons only. Got it!\n",
        "AI Tutor: Exactly!\n",
        "\"\"\"\n",
        "\n",
        "Batch9RepetitionRequest = \"\"\"\n",
        "AI Tutor: Ionic bonds involve electron transfer. Example?\n",
        "Learner: Can you repeat what ionic bonds are?\n",
        "AI Tutor: Sure! One atom donates electrons, another accepts them.\n",
        "Learner: Like NaCl?\n",
        "AI Tutor: Yes! Sodium gives, chlorine takes.\n",
        "\"\"\"\n",
        "\n",
        "Batch10MixedLanguage = \"\"\"\n",
        "AI Tutor: Neutrons are neutral. Where are they located?\n",
        "Learner: न्यूट्रॉन न्यूक्लियस में होते हैं? (Hindi: \"Neutrons are in the nucleus?\")\n",
        "AI Tutor: Yes! Neutrons are in the nucleus.\n",
        "Learner: Okay, thanks!\n",
        "\"\"\""
      ],
      "metadata": {
        "id": "axOVgXDaPJHR"
      },
      "id": "axOVgXDaPJHR",
      "execution_count": 65,
      "outputs": []
    },
    {
      "cell_type": "code",
      "source": [
        "prev_messages = Batch3OffTopic\n",
        "human_input = \"explain me with a story\""
      ],
      "metadata": {
        "id": "jrJrHUb1LYLR"
      },
      "id": "jrJrHUb1LYLR",
      "execution_count": 66,
      "outputs": []
    },
    {
      "cell_type": "markdown",
      "source": [
        "## REVIEW_NODE"
      ],
      "metadata": {
        "id": "ufDO3UWtMpDS"
      },
      "id": "ufDO3UWtMpDS"
    },
    {
      "cell_type": "code",
      "execution_count": 67,
      "id": "62e0dbc3",
      "metadata": {
        "tags": [],
        "colab": {
          "base_uri": "https://localhost:8080/"
        },
        "id": "62e0dbc3",
        "outputId": "e49ea270-b3a1-494b-8845-4dcbddab7339"
      },
      "outputs": [
        {
          "output_type": "stream",
          "name": "stdout",
          "text": [
            "<think>\n",
            "Okay, so the learner just asked me to \"explain me with a story.\" I need to figure out if this is relevant to the study content provided. Let me go through the study set again to make sure.\n",
            "\n",
            "The study set covers atoms, molecules, atomic structure, historical developments, chemical bonding, formulas, periodic table, atomic mass, and forces between atoms. It also includes topics categorized into easy, medium, and advanced levels. The last few messages were about isotopes and why they behave similarly in chemical reactions because neutrons don't affect reactivity.\n",
            "\n",
            "The learner's current request is to explain something with a story. But the study set doesn't mention anything about storytelling or narrative explanations. It's focused on scientific concepts, definitions, and some historical background. The learner's previous questions were about isotopes and chemical behavior, which are covered in the medium and advanced topics.\n",
            "\n",
            "Since the study set doesn't include storytelling as a method or topic, asking for a story isn't within the provided content. Therefore, the learner's message isn't relevant to the study material. I should respond with [RELEVANT] only if it's relevant, but in this case, it's not, so I should inform them it's not relevant. Wait, no, the instructions say to respond with [RELEVANT] if it's relevant and respond appropriately if it's not. So since it's not relevant, I should say it's not relevant.\n",
            "\n",
            "Wait, no, the instructions say: \"Respond appropriately if learner's message is not relevant BUT respond with the ONLY WORD, [RELEVANT] with brackets if the learner's message is relevant.\" So if it's not relevant, I should respond with an appropriate message, not just [RELEVANT]. But in the example given, the AI tutor responded with [RELEVANT] when it was relevant. So in this case, since the request is not relevant, I should respond with a message explaining that it's not relevant, perhaps asking them to stick to the study content.\n",
            "\n",
            "But looking back, the user's last message was \"explain me with a story.\" The study content doesn't include storytelling, so it's not relevant. Therefore, I should respond by saying it's not relevant and guide them back to the study topics. However, the initial instruction says to only use [RELEVANT] if it's relevant, else respond appropriately. So I should say something like, \"I'm sorry, but explaining with a story isn't within the provided study content. Let's focus on the topics covered.\"\n",
            "\n",
            "But wait, the user's instructions say: \"Respond appropriately if learner's message is not relevant BUT respond with the ONLY WORD, [RELEVANT] with brackets if the learner's message is relevant.\" So if it's not relevant, I should respond appropriately, not just [RELEVANT]. So I should craft a response that says it's not relevant and perhaps redirect them.\n",
            "\n",
            "But in the example provided, when the learner's message was relevant, the AI tutor responded with [RELEVANT]. So in this case, since it's not relevant, I should respond with a message indicating that and perhaps ask them to refocus.\n",
            "\n",
            "So, putting it all together, the learner's request for a story isn't covered in the study set, so it's not relevant. I should inform them that their message isn't relevant and guide them back to the study topics.\n",
            "</think>\n",
            "\n",
            "I'm sorry, but explaining with a story isn't within the provided study content. Let's focus on the topics covered, such as atoms, molecules, and chemical bonding, to ensure you understand the material effectively.\n",
            "False\n"
          ]
        }
      ],
      "source": [
        "context = \"\"\"\n",
        "[START OF STUDY-SET CONTENT]\n",
        "\n",
        "**Atoms and Molecules: Comprehensive Study Guide (NIOS Curriculum)**\n",
        "*Adapted from *\n",
        "\n",
        "---\n",
        "\n",
        "### **1. Fundamental Concepts**\n",
        "#### **Atom Definition**\n",
        "- **Atom**: The smallest unit of matter that retains the properties of an element. Atoms are composed of subatomic particles: protons, neutrons, and electrons .\n",
        "  - **Nucleus**: Central core containing protons (positively charged) and neutrons (neutral).\n",
        "  - **Electrons**: Negatively charged particles orbiting the nucleus in shells .\n",
        "  - **Size**: Atomic diameter ranges from 1–5 Å (1 Å = 10⁻¹⁰ m); the nucleus is ~10⁻⁴ Å in diameter .\n",
        "\n",
        "#### **Molecule Definition**\n",
        "- **Molecule**: A group of two or more atoms bonded chemically (e.g., H₂O, O₃, NaCl) .\n",
        "  - **Types**:\n",
        "    - **Diatomic**: Two atoms (e.g., O₂).\n",
        "    - **Polyatomic**: Multiple atoms (e.g., C₆H₁₂O₆).\n",
        "\n",
        "---\n",
        "\n",
        "### **2. Atomic Structure**\n",
        "#### **Subatomic Particles**\n",
        "| Particle  | Charge              | Mass (amu)       | Location          |\n",
        "|-----------|---------------------|------------------|-------------------|\n",
        "| Proton    | +1.602 × 10⁻¹⁹ C   | ~1.0073  | Nucleus           |\n",
        "| Neutron   | Neutral             | ~1.0087  | Nucleus           |\n",
        "| Electron  | -1.602 × 10⁻¹⁹ C   | ~0.00055  | Electron shells   |\n",
        "\n",
        "- **Atomic Number (Z)**: Number of protons in the nucleus (defines the element).\n",
        "- **Mass Number (A)**: Sum of protons and neutrons .\n",
        "- **Isotopes**: Atoms of the same element with different neutron counts (e.g., Carbon-12 vs. Carbon-14) .\n",
        "\n",
        "---\n",
        "\n",
        "### **3. Historical Development**\n",
        "#### **Dalton’s Atomic Theory (1808)**\n",
        "1. Matter consists of indivisible atoms.\n",
        "2. Atoms of the same element are identical; different elements have distinct atoms.\n",
        "3. Atoms combine in fixed ratios to form compounds.\n",
        "4. Chemical reactions rearrange atoms but do not destroy them .\n",
        "\n",
        "#### **Key Discoveries**\n",
        "- **Electrons**: Identified via cathode ray experiments (J.J. Thomson, 1897) .\n",
        "- **Nuclear Model**: Rutherford’s gold foil experiment (1911) revealed a dense, positively charged nucleus .\n",
        "- **Neutrons**: Discovered by James Chadwick (1932) .\n",
        "\n",
        "---\n",
        "\n",
        "### **4. Chemical Bonding and Molecules**\n",
        "#### **Types of Bonds**\n",
        "1. **Covalent Bonds**: Electrons shared between atoms (e.g., H₂O).\n",
        "2. **Ionic Bonds**: Electrons transferred, forming ions (e.g., NaCl: Na⁺ and Cl⁻) .\n",
        "\n",
        "#### **Molecular vs. Ionic Compounds**\n",
        "| Feature         | Molecular Compounds       | Ionic Compounds          |\n",
        "|-----------------|---------------------------|--------------------------|\n",
        "| Bond Type       | Covalent                  | Ionic                    |\n",
        "| State at RT     | Often gases/liquids       | Solids                   |\n",
        "| Example         | CO₂                       | NaCl                     |\n",
        "\n",
        "---\n",
        "\n",
        "### **5. Chemical Formulas**\n",
        "- **Empirical Formula**: Simplest whole-number ratio (e.g., CH₂O for glucose).\n",
        "- **Molecular Formula**: Actual atom count (e.g., C₆H₁₂O₆) .\n",
        "- **Structural Formula**: Shows atomic arrangement (e.g., H–O–H for water) .\n",
        "\n",
        "---\n",
        "\n",
        "### **6. The Periodic Table**\n",
        "- **Groups**: Vertical columns (e.g., alkali metals in Group 1).\n",
        "- **Periods**: Horizontal rows.\n",
        "- **Classification**:\n",
        "  - **Metals**: Left/middle (e.g., Na, Fe).\n",
        "  - **Nonmetals**: Right (e.g., O, Cl).\n",
        "  - **Metalloids**: Along the staircase (e.g., Si, Ge) .\n",
        "\n",
        "---\n",
        "\n",
        "### **7. Atomic Mass and Units**\n",
        "- **Atomic Mass Unit (amu)**: 1 amu = 1/12th the mass of a Carbon-12 atom (~1.66 × 10⁻²⁴ g) .\n",
        "- **Example Atomic Masses**:\n",
        "  - Hydrogen: 1 u\n",
        "  - Carbon: 12 u\n",
        "  - Oxygen: 16 u .\n",
        "\n",
        "---\n",
        "\n",
        "### **8. Forces Between Atoms**\n",
        "- **Ionic Attraction**: Oppositely charged ions (e.g., Na⁺ and Cl⁻) attract via Coulomb’s law .\n",
        "- **Covalent Sharing**: Electrons shared to achieve stable electron configurations .\n",
        "\n",
        "---\n",
        "[END OF STUDY-SET CONTENT]\n",
        "\n",
        "[START OF THE TOPICS WITHIN THE STUDY-SET]\n",
        "\n",
        "**Study Topics Categorized by Difficulty**\n",
        "*Based STRICTLY on the STUDY-SET content*\n",
        "\n",
        "---\n",
        "\n",
        "### **EASY**\n",
        "*Foundational concepts, definitions, and basic structure.*\n",
        "1. **Atom Definition**: Components (protons, neutrons, electrons), nucleus, atomic size.\n",
        "2. **Molecule Definition**: Diatomic vs. polyatomic examples (O₂, H₂O).\n",
        "3. **Subatomic Particles**: Charge, mass, and location (protons, neutrons, electrons).\n",
        "4. **Atomic Number (Z) and Mass Number (A)**: Definitions and calculations (e.g., neutrons = A – Z).\n",
        "5. **Periodic Table Basics**: Groups, periods, and classification (metals, nonmetals, metalloids).\n",
        "6. **Dalton’s Atomic Theory**: Key postulates.\n",
        "7. **Atomic Mass Unit (amu)**: Definition and examples (H=1u, C=12u).\n",
        "\n",
        "---\n",
        "\n",
        "### **MEDIUM**\n",
        "*Intermediate concepts requiring understanding of relationships and applications.*\n",
        "1. **Isotopes**: Definition, examples (Carbon-12 vs. Carbon-14), and why isotopes share chemical properties.\n",
        "2. **Chemical Bonding**:\n",
        "   - Covalent vs. ionic bonds (e.g., H₂O vs. NaCl).\n",
        "   - Molecular vs. ionic compounds (comparison table).\n",
        "3. **Chemical Formulas**:\n",
        "   - Empirical vs. molecular formulas (e.g., CH₂O vs. C₆H₁₂O₆).\n",
        "4. **Historical Discoveries**:\n",
        "   - J.J. Thomson (electrons), Rutherford (nuclear model), Chadwick (neutrons).\n",
        "5. **Atomic Models**: Implications of Rutherford’s gold foil experiment.\n",
        "\n",
        "---\n",
        "\n",
        "### **ADVANCED**\n",
        "*Complex topics involving deeper analysis or synthesis of concepts.*\n",
        "1. **Structural Formulas**: Representation of atomic arrangements (e.g., H–O–H for water).\n",
        "2. **Forces Between Atoms**:\n",
        "   - Ionic attraction (Coulomb’s law application in NaCl).\n",
        "   - Covalent sharing mechanisms (electron configurations).\n",
        "3. **Practice Problem Analysis**:\n",
        "   - Explaining isotope behavior using electron configuration.\n",
        "   - Calculating neutrons in isotopes (e.g., Chlorine-35).\n",
        "\n",
        "---\n",
        "\n",
        "**Note**: Topics are categorized based on conceptual complexity and prerequisites. Learners should master **EASY** topics before progressing to **MEDIUM** and **ADVANCED**.\n",
        "[END OF THE TOPICS WITHIN THE STUDY-SET]\n",
        "\n",
        "%s\n",
        "\"\"\" % prev_messages\n",
        "\n",
        "messages = [\n",
        "    (\n",
        "        \"system\",\n",
        "        \"You are an AI tutor who has to check the relevancy of the Learner's message exactly within the boundary of the STUDY CONTENT and STUDY SETS that are provided in your context. We have also given last 3 message exchanges between you and the learner for context. Respond appropriately if learner's message is not relevant BUT respond with the ONLY WORD, [RELEVANT] with brackets if the learner's message is relevant. . CONTEXT --> \" + \" \" + context,\n",
        "    ),\n",
        "    (\"human\", human_input),\n",
        "]\n",
        "ai_msg = llm.invoke(messages)\n",
        "print (ai_msg.content)\n",
        "print (ai_msg.content.endswith(\"[RELEVANT]\"))\n",
        "is_relevant = ai_msg.content.endswith(\"[RELEVANT]\")"
      ]
    },
    {
      "cell_type": "markdown",
      "source": [
        "## ACTION NODE"
      ],
      "metadata": {
        "id": "5YbABwho8W6l"
      },
      "id": "5YbABwho8W6l"
    },
    {
      "cell_type": "code",
      "execution_count": 68,
      "metadata": {
        "tags": [],
        "id": "A_IGE5vh8ZUS"
      },
      "outputs": [],
      "source": [
        "messages = [\n",
        "    (\n",
        "        \"system\",\n",
        "        \"You are an AI tutor who has to generate the content as asked by the learner. The relevancy of the Learner's message exactly within the boundary of the STUDY CONTENT. Unless learner explicitly mention his preference, infer the topic from your context. We have given last 3 message exchanges between you and the learner for context. Respond appropriately. CONTEXT --> \" + \" \" + context,\n",
        "    ),\n",
        "    (\"human\", human_input),\n",
        "]\n",
        "if is_relevant:\n",
        "    ai_msg = llm.invoke(messages)\n",
        "    print (ai_msg.content)\n"
      ],
      "id": "A_IGE5vh8ZUS"
    },
    {
      "cell_type": "markdown",
      "source": [],
      "metadata": {
        "id": "xtO71iAL8WPE"
      },
      "id": "xtO71iAL8WPE"
    }
  ],
  "metadata": {
    "kernelspec": {
      "display_name": "Python 3 (ipykernel)",
      "language": "python",
      "name": "python3"
    },
    "language_info": {
      "codemirror_mode": {
        "name": "ipython",
        "version": 3
      },
      "file_extension": ".py",
      "mimetype": "text/x-python",
      "name": "python",
      "nbconvert_exporter": "python",
      "pygments_lexer": "ipython3",
      "version": "3.10.4"
    },
    "colab": {
      "provenance": [],
      "toc_visible": true,
      "include_colab_link": true
    }
  },
  "nbformat": 4,
  "nbformat_minor": 5
}